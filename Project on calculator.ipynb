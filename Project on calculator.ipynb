{
 "cells": [
  {
   "cell_type": "markdown",
   "id": "4899e802",
   "metadata": {},
   "source": [
    "# Calculator in Python"
   ]
  },
  {
   "cell_type": "code",
   "execution_count": 4,
   "id": "30c08dc5",
   "metadata": {},
   "outputs": [],
   "source": [
    "#python program for simple calculator"
   ]
  },
  {
   "cell_type": "code",
   "execution_count": 8,
   "id": "8110e2e6",
   "metadata": {},
   "outputs": [
    {
     "name": "stdout",
     "output_type": "stream",
     "text": [
      " Please select operations -\n",
      " 1. Add\n",
      "2. Subtract\n",
      "3. Multiply\n",
      "4. Divide\n",
      "\n",
      "Select operations from 1,2,3,4:4\n",
      "Enter first number:23\n",
      "Enter second number:3\n",
      "23 / 3 = 7.666666666666667\n"
     ]
    }
   ],
   "source": [
    "#Functions to add two numbers\n",
    "def add(num1, num2):\n",
    "    return num1 + num2\n",
    "\n",
    "#Functions to subtract two numbers\n",
    "def subtract(num1, num2):\n",
    "    return num1 - num2\n",
    "\n",
    "#Functions to multiply two numbers\n",
    "def multiply(num1, num2):\n",
    "    return num1 * num2\n",
    "\n",
    "#Functions to divide two numbers\n",
    "def divide(num1, num2):\n",
    "    return num1 / num2\n",
    "print(\" Please select operations -\\n \" \\\n",
    "         \"1. Add\\n\" \\\n",
    "         \"2. Subtract\\n\" \\\n",
    "         \"3. Multiply\\n\" \\\n",
    "         \"4. Divide\\n\" )\n",
    "\n",
    "#Take input from the user \n",
    "select = int(input(\"Select operations from 1,2,3,4:\"))\n",
    "number_1 = int(input(\"Enter first number:\"))\n",
    "number_2 = int(input(\"Enter second number:\"))\n",
    "if select == 1:\n",
    "    print(number_1, \"+\", number_2, \"=\", add(number_1, number_2))\n",
    "    \n",
    "elif select == 2:\n",
    "    print(number_1, \"-\", number_2, \"=\", subtract(number_1, number_2))\n",
    "    \n",
    "elif select == 3:\n",
    "    print(number_1, \"*\", number_2, \"=\", multiply(number_1, number_2))\n",
    "    \n",
    "elif select == 4:\n",
    "    print(number_1, \"/\", number_2, \"=\", divide(number_1, number_2))\n",
    "    \n",
    "else:\n",
    "    print(\"Invalid input\")"
   ]
  },
  {
   "cell_type": "code",
   "execution_count": null,
   "id": "cb20200d",
   "metadata": {},
   "outputs": [],
   "source": []
  }
 ],
 "metadata": {
  "kernelspec": {
   "display_name": "Python 3 (ipykernel)",
   "language": "python",
   "name": "python3"
  },
  "language_info": {
   "codemirror_mode": {
    "name": "ipython",
    "version": 3
   },
   "file_extension": ".py",
   "mimetype": "text/x-python",
   "name": "python",
   "nbconvert_exporter": "python",
   "pygments_lexer": "ipython3",
   "version": "3.10.9"
  }
 },
 "nbformat": 4,
 "nbformat_minor": 5
}
